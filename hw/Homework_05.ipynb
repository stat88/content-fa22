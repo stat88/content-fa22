{
 "cells": [
  {
   "cell_type": "markdown",
   "metadata": {
    "#solution": false,
    "#staff": false,
    "#student": false
   },
   "source": [
    "<table align=\"left\" style=\"border-style: hidden\" class=\"table\"> <tr><td class=\"col-md-2\"><img style=\"float\" src=\"../logo.png\" alt=\"Data 88S Logo\" style=\"width: 120px;\"/></td><td><div align=\"left\"><h3 style=\"margin-top: 0;\">Probability for Data Science</h3><h4 style=\"margin-top: 20px;\">UC Berkeley, Fall 2022</h4><p>Ani Adhikari & Shahzar</p>CC BY-NC 4.0</div></td></tr></table><!-- not in pdf -->\n",
    "\n",
    "This content is protected and may not be shared, uploaded, or distributed."
   ]
  },
  {
   "cell_type": "code",
   "execution_count": null,
   "metadata": {
    "#solution": false,
    "#staff": false,
    "#student": false
   },
   "outputs": [],
   "source": [
    "from datascience import *\n",
    "import numpy as np\n",
    "from scipy import stats"
   ]
  },
  {
   "cell_type": "markdown",
   "metadata": {
    "#solution": false,
    "#staff": false,
    "#student": false
   },
   "source": [
    "# Homework 5"
   ]
  },
  {
   "cell_type": "markdown",
   "metadata": {
    "#solution": false,
    "#staff": false,
    "#student": false
   },
   "source": [
    "### Instructions\n",
    "\n",
    "Show your work. Give reasoning. The question isn't always going to ask for it, because we assume that you will provide justification for your answers. Every answer should contain a calculation, reasoning, or diagrams that are clearly labeled to show what's going on.\n",
    "\n",
    "We encourage you to hand-write your answers. Start each question on a separate page. It is your responsibility to ensure that the homework is submitted completely and properly to Gradescope. **Make sure to assign each page of your pdf to the correct question.** Refer to the bottom of the notebook for submission instructions.\n",
    "\n",
    "In some of the problems below, you have to do a numerical calculation in a code cell. All the libraries you might need have been imported for you. Run the import cell at the top before you start the homework."
   ]
  },
  {
   "cell_type": "markdown",
   "metadata": {
    "#solution": false,
    "#staff": false,
    "#student": false
   },
   "source": [
    "## 1. Cars at a Crossing ##\n",
    "\n",
    "Salil sits at a cafe for 30 minutes sipping tea and watching cars go by. Assume:\n",
    "\n",
    "- the number of US-made cars $U$ has the Poisson $(7)$ distribution\n",
    "- the number of Japanese-made cars $J$ has the Poisson $(5)$ distribution\n",
    "- the number of all other cars $X$ has the Poisson $(4)$ distribution\n",
    "\n",
    "Assume also that $U$, $J$, and $X$ are independent of each other, and let the total number of cars be $T = U + J + X$.\n",
    "\n",
    "Some parts below ask for numerical values as well as math expressions. There is a code cell at the end of the exercise for numerical computations. As usual, you do not need to submit any code, just the numerical values when asked.\n",
    "\n",
    "**a)** Write a math expression for $P(U \\ge 9, J \\ge 9)$ that does not include any infinite sums. Then use the code cell to find its numerical value, and provide the numerical value along with your expression.\n",
    "\n",
    "**b)** Write a math expression for $P(J = X)$. It's fine to leave this answer as an infinite sum. You don't have to find a numerical value.\n",
    "\n",
    "**c)** Write a math expression for $P(T = 20)$, and provide its numerical value by using the code cell below."
   ]
  },
  {
   "cell_type": "code",
   "execution_count": null,
   "metadata": {
    "#solution": false,
    "#staff": false,
    "#student": true
   },
   "outputs": [],
   "source": [
    "# Code cell for Exercise 4 numerical calculations\n"
   ]
  },
  {
   "cell_type": "markdown",
   "metadata": {
    "#solution": false,
    "#staff": false,
    "#student": false,
    "tags": []
   },
   "source": [
    "## 2. Bad Widgets\n",
    "A factory produces $5n$ widgets. Each widget fails the factory's quality control test with chance $\\frac{1}{n}$ independent of all other widgets. Let $W$ be the number of widgets that fail the test.\n",
    "\n",
    "**a)** Fill in each blank with the name of a famous distribution as well as the parameters. **Explain your answers.**\n",
    "\n",
    "The distribution of $W$ is $\\underline{~~~~~~~~~~~~~~~~~~~~~~~~~~~~~~~}$. When $n$ is large, this is well approximated by the $\\underline{~~~~~~~~~~~~~~~~~~~~~~~~~~~~~~~}$ distribution.\n",
    "\n",
    "**b)** For large $n$, write a math expression that approximates $P(W \\leq 4)$. Use the code cell below to find the numerical value of the approximation and provide it with your answer."
   ]
  },
  {
   "cell_type": "code",
   "execution_count": null,
   "metadata": {
    "#solution": false,
    "#staff": false,
    "#student": true
   },
   "outputs": [],
   "source": [
    "# Calculation for b\n"
   ]
  },
  {
   "cell_type": "markdown",
   "metadata": {
    "#solution": false,
    "#staff": false,
    "#student": false
   },
   "source": [
    "## 3. Quick Expectations\n",
    "\n",
    "In each part below, provide the numerical value of the expectation and explain your answer.\n",
    "\n",
    "**a)** In Exercise 2 of Homework 3, you found the distribution of the number of times a tetrahedron is rolled till a face reappears. The random variable was called $D$. Go back and look at that exercise and then find $E(D)$.\n",
    "\n",
    "**b)** For $D$ as in Part **a**, let $M$ be the minimum of $D$ and 3. For example, if $D = 5$ then $M = 3$. If $D = 2$ then $M = 2$. If $D = 3$ then $M = 3$. Find $E(M)$.\n",
    "\n",
    "**c)** I have a coin that lands heads with chance $\\frac{1}{4}$. I toss the coin $200$ times. My friend tosses a fair coin $500$ times. Find the expectation of the total number of heads in the $700$ tosses.\n",
    "\n",
    "**d)** A class of 200 students contains 50 sophomores. Find the expected number of sophomores in a simple random sample of 30 students drawn from the class.\n",
    "\n",
    "**e)** In City A, the number of traffic accidents on a given day has the Poisson $(4.8)$ distribution. Independently, the number of traffic accidents on that day in City B has the Poisson $(6.1)$ distribution. Let $X$ be the total number of traffic accidents on that day in the two cities. Find $E(X)$."
   ]
  },
  {
   "cell_type": "markdown",
   "metadata": {
    "#solution": false,
    "#staff": false,
    "#student": false
   },
   "source": [
    "## Submission Instructions ##\n",
    "\n",
    "Please follow the directions below to properly submit your work.\n",
    "\n",
    "### Written Work ###\n",
    "*  Scan all the pages into a PDF. You can use any scanner or a phone using applications such as CamScanner. Please **DO NOT** simply take pictures using your phone. \n",
    "* Please start a new page for each question. If you have already written multiple questions on the same page, you can crop the image in CamScanner or fold your page over (the old-fashioned way). This helps expedite grading.\n",
    "* It is your responsibility to check that all the work on all the scanned pages is legible.\n",
    "    \n",
    "### Submitting ###\n",
    "* Submit the assignment to Homework 5 on Gradescope. \n",
    "* **Make sure to assign each page of your pdf to the correct question.**\n",
    "* **It is your responsibility to verify that all of your work shows up in your final PDF submission.**\n",
    "\n",
    "If you have questions about scanning or uploading your work, please post a follow-up to the Ed thread on [Gradescope Assignment Submission](https://edstem.org/us/courses/25014/discussion/1701331)."
   ]
  }
 ],
 "metadata": {
  "checksums": [
   "cc9b802a027abf12fcc2247baf3bf022",
   "d81c015fe17ef0f91b778d7089110778",
   "d9fa67e420ff6517bb279af341a3d241",
   "7b5757edfe3a21b1f7fefbe136ea41da",
   "f31460127aaa5993590a4ba6982ef49f",
   "5f479d5078de5a59b601ed1c1d7154ac",
   "18dcca4257b1686babede45a3789ef90",
   "9140c692403059f49a1e15639b3f7d06",
   "fedf0e1a3967b9ccb9444d6ef0d5dd40",
   "bfa3ea4a4d2ee3ca4e987a28ed3cbfa9"
  ],
  "kernelspec": {
   "display_name": "Python 3",
   "language": "python",
   "name": "python3"
  },
  "language_info": {
   "codemirror_mode": {
    "name": "ipython",
    "version": 3
   },
   "file_extension": ".py",
   "mimetype": "text/x-python",
   "name": "python",
   "nbconvert_exporter": "python",
   "pygments_lexer": "ipython3",
   "version": "3.7.11"
  },
  "number_of_pagebreaks": 0
 },
 "nbformat": 4,
 "nbformat_minor": 4
}
