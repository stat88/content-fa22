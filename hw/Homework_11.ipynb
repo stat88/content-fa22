{
 "cells": [
  {
   "cell_type": "markdown",
   "id": "e5d1d1f2",
   "metadata": {
    "#solution": false,
    "#staff": false,
    "#student": false
   },
   "source": [
    "<table align=\"left\" style=\"border-style: hidden\" class=\"table\"> <tr><td class=\"col-md-2\"><img style=\"float\" src=\"../logo.png\" alt=\"Data 88S Logo\" style=\"width: 120px;\"/></td><td><div align=\"left\"><h3 style=\"margin-top: 0;\">Probability for Data Science</h3><h4 style=\"margin-top: 20px;\">UC Berkeley, Fall 2022</h4><p>Ani Adhikari & Shahzar</p>CC BY-NC 4.0</div></td></tr></table><!-- not in pdf -->\n",
    "\n",
    "This content is protected and may not be shared, uploaded, or distributed."
   ]
  },
  {
   "cell_type": "code",
   "execution_count": null,
   "id": "a4363f40",
   "metadata": {
    "#solution": false,
    "#staff": false,
    "#student": false
   },
   "outputs": [],
   "source": [
    "from datascience import *\n",
    "import numpy as np\n",
    "from scipy import stats"
   ]
  },
  {
   "cell_type": "markdown",
   "id": "33394a05",
   "metadata": {
    "#solution": false,
    "#staff": false,
    "#student": false
   },
   "source": [
    "# Homework 11 #"
   ]
  },
  {
   "cell_type": "markdown",
   "id": "eaafaf0c",
   "metadata": {
    "#solution": false,
    "#staff": false,
    "#student": false
   },
   "source": [
    "### Instructions\n",
    "\n",
    "Show your work. Give reasoning. The question isn't always going to ask for it, because we assume that you will provide justification for your answers. Every answer should contain a calculation, reasoning, or diagrams that are clearly labeled to show what's going on.\n",
    "\n",
    "We encourage you to hand-write your answers. Start each question on a separate page. It is your responsibility to ensure that the homework is submitted completely and properly to Gradescope. **Make sure to assign each page of your pdf to the correct question.** Refer to the bottom of the notebook for submission instructions.\n",
    "\n",
    "In some of the problems below, you are asked for a numerical value. First, find a math expression for the chance. Then you can use a code cell (or some external calculator) to get the numerical value. All the libraries you might need have been imported for you. Run the import cell at the top before you start the homework."
   ]
  },
  {
   "cell_type": "markdown",
   "id": "462d0fd3",
   "metadata": {
    "#solution": false,
    "#staff": false,
    "#student": false
   },
   "source": [
    "## 1. Six-Footers ##\n",
    "\n",
    "The heights $X_1, X_2, \\ldots, X_{10}$ of a random sample of 10 people are i.i.d. normal random variables with mean $68$ inches and standard deviation $3$ inches.  \n",
    "\n",
    "**a)** Find the chance that at most two of the sampled people are more than six feet tall. Then calculate its numerical value (you can use the code cell below).\n",
    "\n",
    "**b)** Let $\\bar{X}$ be the average height of the sampled people. If possible, find or approximate the distribution of $\\bar{X}$ **and** state whether you found or approximated the distribution. If this is not possible, explain why not."
   ]
  },
  {
   "cell_type": "code",
   "execution_count": null,
   "id": "6cafaa52",
   "metadata": {
    "#solution": false,
    "#staff": false,
    "#student": true
   },
   "outputs": [],
   "source": [
    "# Calculations for part a\n",
    "\n"
   ]
  },
  {
   "cell_type": "markdown",
   "id": "ef03f6c6",
   "metadata": {
    "#solution": false,
    "#staff": false,
    "#student": false
   },
   "source": [
    "## 2. College Graduates in Seattle and SF ##\n",
    "\n",
    "In a simple random sample of 400 people taken in Seattle, 63% are college graduates. In an independent simple random sample of 600 people taken in San Francisco, 59% are college graduates.\n",
    "\n",
    "**a)** Is the proportion of college graduates different in the two cities, or is this just chance variation? Answer by performing a test of hypotheses at the 5% level. Your answer should include a null hypothesis in terms of random variables, an appropriate alternative hypothesis, a test statistic, a $p$-value, and a conclusion, along with justifications for all of these.\n",
    "\n",
    "For getting the numeric value of the $p$-value and other calculations, you can use the code cell below.\n",
    "\n",
    "**b)** Construct an approximate 95% confidence interval for the difference between the percents of college graduates in Seattle and San Francisco, where the difference is defined as the percent in Seattle minus the percent in SF).\n"
   ]
  },
  {
   "cell_type": "code",
   "execution_count": null,
   "id": "2722bd4c",
   "metadata": {
    "#solution": false,
    "#staff": false,
    "#student": true
   },
   "outputs": [],
   "source": [
    "# Calculations in part a\n",
    "\n"
   ]
  },
  {
   "cell_type": "markdown",
   "id": "4d7fcf45",
   "metadata": {
    "#solution": false,
    "#staff": false,
    "#student": false
   },
   "source": [
    "## 3. Size of Error, Part I ##\n",
    "\n",
    "Data scientists often have to estimate the size of a random error. A simple model for a random error is that it is distributed uniformly on the interval $(-\\theta, \\theta)$ for some constant $\\theta > 0$.\n",
    "\n",
    "If $\\theta$ is unknown, data scientists might have to estimate it. Suppose they have just one data point $Y$ distributed uniformly on $(-\\theta, \\theta)$. Let's see how they can use it to estimate $\\theta$.\n",
    "\n",
    "**a)** The first step is to simplify the problem. Let $X = \\vert Y \\vert$. What are the possible values of $X$? For each possible value $x$, find $P(X > x)$. Identify the distribution of $X$ as one of the famous ones, and provide its name and parameters.\n",
    "\n",
    "**b)** To estimate $\\theta$, suppose the data scientists use the estimator $T_1 = X$. Find the bias of $T_1$ and also the variance of $T_1$.\n",
    "\n",
    "**c)** Use $T_1$ to construct an unbiased estimator of $\\theta$. Call this new estimator $T_2$. The good news is that it is unbiased by your construction. Now find $Var(T_2)$ and compare it with $Var(T_1)$ in Part **b**."
   ]
  },
  {
   "cell_type": "markdown",
   "id": "ddb17ca0",
   "metadata": {
    "#solution": false,
    "#staff": false,
    "#student": false
   },
   "source": [
    "## 4. Size of Error, Part II ##\n",
    "\n",
    "Now let $X_1, X_2, \\ldots, X_n$ be i.i.d. uniform on $(0, \\theta)$. As in the previous exercise, the goal is to use the data to estimate $\\theta$.\n",
    "\n",
    "**a)** Let $\\bar{X}$ be the sample mean. Use $\\bar{X}$ to construct an unbiased estimator $T$ of the parameter $\\theta$, and find $Var_\\theta(T)$.\n",
    "\n",
    "**b)** Let $M = \\max(X_1, X_2, \\ldots, X_n)$. Find $E_\\theta(M)$ by finding first the cdf, then the density, and then the expectation.\n",
    "\n",
    "**c)** Explain your answer for $E_\\theta(M)$ by a symmetry argument. \n",
    "\n",
    "[Draw the interval $(0, \\theta)$. Take $n = 3$ or some other small integer, and throw down $n$ points on the interval. Stare at the gaps created. How many are there? How many between $0$ and $M$?]\n",
    "\n",
    "**d)** Find the bias of $M$ and say what happens to the bias as the sample size gets large.\n",
    "\n",
    "**e)** Find $Var(M)$. You'll need to use the density you find in Part **b)**.\n",
    "\n",
    "**f)** If the sample is large, which of the two estimators $M$ and $T_1$ would you rather use, and why? Make a strong case for your choice. You are welcome to support your answer by algebra/calculus or numerical computation. "
   ]
  },
  {
   "cell_type": "markdown",
   "id": "230f17cd",
   "metadata": {
    "#solution": false,
    "#staff": false,
    "#student": false
   },
   "source": [
    "## Submission Instructions ##\n",
    "\n",
    "Please follow the directions below to properly submit your work.\n",
    "\n",
    "### Written Work ###\n",
    "*  Scan all the pages into a PDF. You can use any scanner or a phone using applications such as CamScanner. Please **DO NOT** simply take pictures using your phone. \n",
    "* Please start a new page for each question. If you have already written multiple questions on the same page, you can crop the image in CamScanner or fold your page over (the old-fashioned way). This helps expedite grading.\n",
    "* It is your responsibility to check that all the work on all the scanned pages is legible.\n",
    "    \n",
    "### Submitting ###\n",
    "* Submit the assignment to Homework 11 on Gradescope. \n",
    "* **Make sure to assign each page of your pdf to the correct question.**\n",
    "* **It is your responsibility to verify that all of your work shows up in your final PDF submission.**\n",
    "\n",
    "If you have questions about scanning or uploading your work, please post a follow-up to the Ed thread on [Gradescope Assignment Submission](https://edstem.org/us/courses/25014/discussion/1701331)."
   ]
  }
 ],
 "metadata": {
  "checksums": [
   "cc9b802a027abf12fcc2247baf3bf022",
   "d81c015fe17ef0f91b778d7089110778",
   "e6612f30be080525378567ffbb5fcc3a",
   "d7d4c4fd9b7ae549999307aa36aa47c6",
   "8f7b4f259d2a6243310f4bad57015250",
   "868e8def81773789d27e88a2991120a4",
   "22e6aed8549f4665f7dac052b60b5158",
   "81af8da7f7a4df135ca2c0859e4cf35c",
   "5ecf193c3ee0e1740e0b2335604efb43",
   "30a1f4fbe37ea9dd1375186ceae45715",
   "de110c1ded1d86c85104c5ffb981f06f"
  ],
  "kernelspec": {
   "display_name": "Python 3 (ipykernel)",
   "language": "python",
   "name": "python3"
  },
  "language_info": {
   "codemirror_mode": {
    "name": "ipython",
    "version": 3
   },
   "file_extension": ".py",
   "mimetype": "text/x-python",
   "name": "python",
   "nbconvert_exporter": "python",
   "pygments_lexer": "ipython3",
   "version": "3.9.13"
  },
  "number_of_pagebreaks": 0
 },
 "nbformat": 4,
 "nbformat_minor": 5
}
