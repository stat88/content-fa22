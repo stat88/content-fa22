{
 "cells": [
  {
   "cell_type": "markdown",
   "metadata": {
    "#solution": false,
    "#staff": false,
    "#student": false
   },
   "source": [
    "<table align=\"left\" style=\"border-style: hidden\" class=\"table\"> <tr><td class=\"col-md-2\"><img style=\"float\" src=\"../logo.png\" alt=\"Data 88S Logo\" style=\"width: 120px;\"/></td><td><div align=\"left\"><h3 style=\"margin-top: 0;\">Probability for Data Science</h3><h4 style=\"margin-top: 20px;\">UC Berkeley, Fall 2022</h4><p>Ani Adhikari & Shahzar</p>CC BY-NC 4.0</div></td></tr></table><!-- not in pdf -->\n",
    "\n",
    "This content is protected and may not be shared, uploaded, or distributed."
   ]
  },
  {
   "cell_type": "code",
   "execution_count": null,
   "metadata": {
    "#solution": false,
    "#staff": false,
    "#student": false
   },
   "outputs": [],
   "source": [
    "from datascience import *\n",
    "import numpy as np\n",
    "from scipy import stats"
   ]
  },
  {
   "cell_type": "markdown",
   "metadata": {
    "#solution": false,
    "#staff": false,
    "#student": false
   },
   "source": [
    "# Homework 4 #"
   ]
  },
  {
   "cell_type": "markdown",
   "metadata": {
    "#solution": false,
    "#staff": false,
    "#student": false
   },
   "source": [
    "### Instructions\n",
    "\n",
    "Show your work. Give reasoning. The question isn't always going to ask for it, because we assume that you will provide justification for your answers. Every answer should contain a calculation, reasoning, or diagrams that are clearly labeled to show what's going on.\n",
    "\n",
    "We encourage you to hand-write your answers. Start each question on a separate page. It is your responsibility to ensure that the homework is submitted completely and properly to Gradescope. **Make sure to assign each page of your pdf to the correct question.** Refer to the bottom of the notebook for submission instructions.\n",
    "\n",
    "In some of the problems below, you have to do a numerical calculation in a code cell. All the libraries you might need have been imported for you. Run the import cell at the top before you start the homework."
   ]
  },
  {
   "cell_type": "markdown",
   "metadata": {
    "#solution": false,
    "#staff": false,
    "#student": false
   },
   "source": [
    "## 1. Treatment and Control ##\n",
    "\n",
    "A randomized controlled experiment has 50 participants, of whom 20 are women. A simple random sample of 25 participants is assigned to the treatment group and the remainder to the control group.\n",
    "\n",
    "**a)** Say whether the following statement is true or false. If it is true, provide a math expression for the chance. If it is false, provide math expressions for the two chances.\n",
    "\n",
    "$P(\\text{the treatment group has 16 women}) ~ = ~ P(\\text{the control group has 16 women})$\n",
    "\n",
    "**b)** Say whether the following statement is true or false, and justify your answer.\n",
    "\n",
    "The event \"the treatment group has 16 women\" is independent of the event \"the control group has 16 women\".\n",
    "\n",
    "**c)** Write a math expression for the chance that there are at least six women in both groups.\n",
    "\n",
    "[*Hint:* This can be done by just thinking about the women in one of the groups. Any other way will prove quite a bit harder.]"
   ]
  },
  {
   "cell_type": "markdown",
   "metadata": {
    "#solution": false,
    "#staff": false,
    "#student": false
   },
   "source": [
    "\\newpage"
   ]
  },
  {
   "cell_type": "markdown",
   "metadata": {
    "#solution": false,
    "#staff": false,
    "#student": false
   },
   "source": [
    "## 2. Using a CDF\n",
    "The figure below shows the graph of a function $F$ which is the cumulative distribution function (cdf) of a random variable $X$. \n",
    "\n",
    "![cdf](hw4_q2_graph.png)\n",
    "\n",
    "**a)** Make a distribution table for $X$.\n",
    "\n",
    "**b)** Find $P(\\vert X - 1 \\vert \\le 1)$.\n",
    "\n",
    "**c)** Find $P((X-1)(X-3) = 0)$."
   ]
  },
  {
   "cell_type": "markdown",
   "metadata": {
    "#solution": false,
    "#staff": false,
    "#student": false
   },
   "source": [
    "\\newpage"
   ]
  },
  {
   "cell_type": "markdown",
   "metadata": {
    "#solution": false,
    "#staff": false,
    "#student": false
   },
   "source": [
    "## 3. Collecting Bears ##\n",
    "\n",
    "A cereal company puts a small plastic bear in some of its cereal boxes. Customers who collect 10 of these bears win a grand prize.\n",
    "\n",
    "Suppose that each box contains a bear with chance 1/5, independently of all other boxes. Suppose also that Dea buys one box of this cereal each week.\n",
    "\n",
    "Let $T_1$ be the number of weeks it takes for Dea to get her first bear.\n",
    "\n",
    "Let $T_{10}$ be the number of weeks it takes for Dea to get her tenth bear.\n",
    "\n",
    "Find the following probabilities. In each part, first write a math expression for the chance. If you have any infinite sums in your expression, please be sure to simplify them. Then use the code cell at the end of the exercise to find the numerical value. Remember that you can use `stats.binom.pmf` for binomial probabilities, and `stats.binom.cdf` for the binomial cdf. Provide the numerical value along with your math expression. \n",
    "\n",
    "**a)** $P(T_1 > 12)$\n",
    "\n",
    "**b)** $P(T_{10} = 40)$\n",
    "\n",
    "**c)** $P(T_{10} > 40)$\n",
    "\n",
    "**d)** $P(T_{10} > 40 \\mid T_{1} = 8)$"
   ]
  },
  {
   "cell_type": "code",
   "execution_count": null,
   "metadata": {
    "#solution": false,
    "#staff": false,
    "#student": false
   },
   "outputs": [],
   "source": [
    "# code cell for Exercise 3 numerical calculations"
   ]
  },
  {
   "cell_type": "markdown",
   "metadata": {
    "#solution": false,
    "#staff": false,
    "#student": false
   },
   "source": [
    "\\newpage"
   ]
  },
  {
   "cell_type": "markdown",
   "metadata": {
    "#solution": false,
    "#staff": false,
    "#student": false
   },
   "source": [
    "## 4. Missing after Resampling ##\n",
    "\n",
    "A sample of $n$ people includes Stuti, Nathan, and Kate. A bootstrap sample ($n$ draws at random with replacement) is drawn from the sample. [Students who are concurrently in Data 8: you'll see lots of bootstrap samples in that class soon.]\n",
    "\n",
    "**a)** Find the chance the probability that none of Stuti, Nathan, and Kate is chosen in the bootstrap sample. Be careful about your use of the multiplication rule.\n",
    "\n",
    "**b)** In the code cell below, write a Python expression that evaluates to the numerical answer to Part **a** when $n = 5$. As usual, you won't be turning in the cell. Just pick the choice that arises from your calculation in Part **a**. If you pick (iii), provide the numerical value of your answer.\n",
    "\n",
    "When $n = 5$ the answer to Part **a** is about\n",
    "\n",
    "(i) 1%\n",
    "\n",
    "(ii) 3.5%\n",
    "\n",
    "(iii) Other: $\\underline{~~~~~~~~~~~~~~~~~~~}$"
   ]
  },
  {
   "cell_type": "code",
   "execution_count": null,
   "metadata": {
    "#solution": false,
    "#staff": false,
    "#student": false
   },
   "outputs": [],
   "source": [
    "# expression that evaluates to the answer to 3a when n = 5\n",
    "\n",
    "..."
   ]
  },
  {
   "cell_type": "markdown",
   "metadata": {
    "#solution": false,
    "#staff": false,
    "#student": false
   },
   "source": [
    "**c)** Find an exponential approximation to the answer in Part **a** when $n$ is large. Then use the code cell below to find the numerical value of your approximation. Remember that `np.e` evaluates to $e$. Provide the numerical value along with your answer."
   ]
  },
  {
   "cell_type": "code",
   "execution_count": null,
   "metadata": {
    "#solution": false,
    "#staff": false,
    "#student": false
   },
   "outputs": [],
   "source": [
    "# expression that evaluates to the answer to 4c\n",
    "\n",
    "..."
   ]
  },
  {
   "cell_type": "markdown",
   "metadata": {
    "#solution": false,
    "#staff": false,
    "#student": false
   },
   "source": [
    "## Submission Instructions ##\n",
    "\n",
    "Please follow the directions below to properly submit your work.\n",
    "\n",
    "### Written Work ###\n",
    "*  Scan all the pages into a PDF. You can use any scanner or a phone using applications such as CamScanner. Please **DO NOT** simply take pictures using your phone. \n",
    "* Please start a new page for each question. If you have already written multiple questions on the same page, you can crop the image in CamScanner or fold your page over (the old-fashioned way). This helps expedite grading.\n",
    "* It is your responsibility to check that all the work on all the scanned pages is legible.\n",
    "    \n",
    "### Submitting ###\n",
    "* Submit the assignment to Homework 4 on Gradescope. \n",
    "* **Make sure to assign each page of your pdf to the correct question.**\n",
    "* **It is your responsibility to verify that all of your work shows up in your final PDF submission.**\n",
    "\n",
    "If you have questions about scanning or uploading your work, please post a follow-up to the Ed thread on [Gradescope Assignment Submission](https://edstem.org/us/courses/25014/discussion/1701331)."
   ]
  }
 ],
 "metadata": {
  "checksums": [
   "cc9b802a027abf12fcc2247baf3bf022",
   "d81c015fe17ef0f91b778d7089110778",
   "996208cdfd34f4af0d96d183afb43c47",
   "7b5757edfe3a21b1f7fefbe136ea41da",
   "39a3f177306d0d9e693fc607d9724011",
   "562505d567faf02dfc9388e81e89d07b",
   "77a1ee95e93d0f9d08cb1afdbf9927ab",
   "562505d567faf02dfc9388e81e89d07b",
   "9bb307a8a06245831bf537f286b331ef",
   "7b15098b39c601c224276511f285f4ab",
   "562505d567faf02dfc9388e81e89d07b",
   "eee81bba243762b93455949eb6c4121f",
   "09795158149ffccaedb1b33bddf01afa",
   "f38ecd392b77daa311625769c3d8bff6",
   "01c0ae5c12caaa0d6f96422fa2efb4b5",
   "08455d5eeb9c5ba8ba2bddfdf478b002"
  ],
  "kernelspec": {
   "display_name": "Python 3",
   "language": "python",
   "name": "python3"
  },
  "language_info": {
   "codemirror_mode": {
    "name": "ipython",
    "version": 3
   },
   "file_extension": ".py",
   "mimetype": "text/x-python",
   "name": "python",
   "nbconvert_exporter": "python",
   "pygments_lexer": "ipython3",
   "version": "3.7.11"
  },
  "number_of_pagebreaks": 0
 },
 "nbformat": 4,
 "nbformat_minor": 4
}
